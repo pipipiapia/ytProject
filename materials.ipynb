{
 "cells": [
  {
   "cell_type": "markdown",
   "id": "dcc4bf94-d6cb-43c0-87ec-9983e1c37aad",
   "metadata": {},
   "source": [
    "Some papers we are going to start with....\n",
    "This one on causality estimation in climate modelling; they have run a competition, which means it is likely there is ready made data for us to play with:\n",
    "https://proceedings.mlr.press/v123/runge20a.html\n",
    " \n",
    " \n",
    "There is quite a lot of work by Runge (author of the above paper) in climate area.\n",
    " \n",
    "This one is classic causality estimation method (coming from economics literature and time series)\n",
    "We probably wont be doing this, but it is important to know this part of the literature:\n",
    "https://pubmed.ncbi.nlm.nih.gov/24200508/\n",
    " \n",
    "This is a review paper, so has lot of background, linking to ML\n",
    "https://www.ics.uci.edu/~dechter/courses/ics-295cr/spring-2021/reading/Causality%20for%20Machine%20Learning%20-%20Paper.pdf\n",
    " \n",
    "This is the one I am most interested in at the moment:\n",
    "https://proceedings.neurips.cc/paper/2018/hash/e347c51419ffb23ca3fd5050202f9c3d-Abstract.html\n",
    "which also relates to:\n",
    "https://openreview.net/forum?id=2xNKMFGPJU5\n",
    "\n",
    "I would also like us to take a look at this old paper -- uses Dynamic Programming -- to get a good feel for the complexity involved. Always good to have a solid understanding of the basic issues:\n",
    "http://reports-archive.adm.cs.cmu.edu/anon/cald/CMU-CALD-05-106.pdf "
   ]
  },
  {
   "cell_type": "markdown",
   "id": "c33d9bf7-cd54-4529-ae79-68911a6ce70e",
   "metadata": {},
   "source": [
    "Scholkopf's more recent review paper is this one https://arxiv.org/abs/2102.11107, I can't remember if there's anything in the old one that isn't in the new one though.\n",
    "I like the recent paper DAGMA https://arxiv.org/pdf/2209.08037.pdf which has a simpler optimisation process.\n",
    "For time series data (as I think the climate challenge is?) DYNOTEARS is the top dog. Paper: https://arxiv.org/abs/2002.00498 code: https://github.com/quantumblacklabs/causalnex/blob/develop/causalnex/structure/dynotears.py\n",
    "\n",
    "New preprint discussing several of the different DAG learning methods: https://arxiv.org/abs/2304.02146"
   ]
  },
  {
   "cell_type": "code",
   "execution_count": null,
   "id": "1c77c3e2-5015-40ba-a88c-57d8900e88ae",
   "metadata": {},
   "outputs": [],
   "source": []
  },
  {
   "cell_type": "markdown",
   "id": "9de95414-7929-442a-8445-4a2ce81f7dbc",
   "metadata": {},
   "source": [
    "casalnex \n",
    "\n",
    "https://github.com/quantumblacklabs/causalnex\n",
    "\n",
    "https://causalnex.readthedocs.io/en/latest/03_tutorial/01_first_tutorial.htmluse the Student Performance Data Set published in the UCI Machine Learning Repository."
   ]
  }
 ],
 "metadata": {
  "kernelspec": {
   "display_name": "Python 3 (ipykernel)",
   "language": "python",
   "name": "python3"
  },
  "language_info": {
   "codemirror_mode": {
    "name": "ipython",
    "version": 3
   },
   "file_extension": ".py",
   "mimetype": "text/x-python",
   "name": "python",
   "nbconvert_exporter": "python",
   "pygments_lexer": "ipython3",
   "version": "3.10.9"
  }
 },
 "nbformat": 4,
 "nbformat_minor": 5
}
